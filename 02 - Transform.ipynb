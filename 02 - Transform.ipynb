{
 "cells": [
  {
   "cell_type": "code",
   "execution_count": 1,
   "id": "f6590e9a",
   "metadata": {},
   "outputs": [],
   "source": [
    "import requests\n",
    "import json\n",
    "import pandas as pd\n",
    "from pymongo import MongoClient\n",
    "import time"
   ]
  },
  {
   "cell_type": "code",
   "execution_count": 5,
   "id": "e5372d08",
   "metadata": {},
   "outputs": [],
   "source": [
    "# Create an instance of MongoClient\n",
    "mongo = MongoClient(port=27017)\n",
    "# assign the met database to a variable name\n",
    "db = mongo['seeClick']\n",
    "# assign the collection to a variable\n",
    "issues = db['issues']"
   ]
  },
  {
   "cell_type": "code",
   "execution_count": 6,
   "id": "779aee51",
   "metadata": {},
   "outputs": [],
   "source": [
    "issues = list(issues.find({}))"
   ]
  },
  {
   "cell_type": "code",
   "execution_count": 8,
   "id": "cf902656",
   "metadata": {},
   "outputs": [],
   "source": [
    "issues_df = pd.DataFrame(issues)"
   ]
  },
  {
   "cell_type": "code",
   "execution_count": 13,
   "id": "c797d23c",
   "metadata": {},
   "outputs": [
    {
     "data": {
      "text/html": [
       "<div>\n",
       "<style scoped>\n",
       "    .dataframe tbody tr th:only-of-type {\n",
       "        vertical-align: middle;\n",
       "    }\n",
       "\n",
       "    .dataframe tbody tr th {\n",
       "        vertical-align: top;\n",
       "    }\n",
       "\n",
       "    .dataframe thead th {\n",
       "        text-align: right;\n",
       "    }\n",
       "</style>\n",
       "<table border=\"1\" class=\"dataframe\">\n",
       "  <thead>\n",
       "    <tr style=\"text-align: right;\">\n",
       "      <th></th>\n",
       "      <th>0</th>\n",
       "    </tr>\n",
       "  </thead>\n",
       "  <tbody>\n",
       "    <tr>\n",
       "      <th>0</th>\n",
       "      <td>Acknowledged</td>\n",
       "    </tr>\n",
       "    <tr>\n",
       "      <th>1</th>\n",
       "      <td>Closed</td>\n",
       "    </tr>\n",
       "    <tr>\n",
       "      <th>2</th>\n",
       "      <td>Archived</td>\n",
       "    </tr>\n",
       "  </tbody>\n",
       "</table>\n",
       "</div>"
      ],
      "text/plain": [
       "              0\n",
       "0  Acknowledged\n",
       "1        Closed\n",
       "2      Archived"
      ]
     },
     "execution_count": 13,
     "metadata": {},
     "output_type": "execute_result"
    }
   ],
   "source": [
    "pd.DataFrame(issues_df['status'].unique()).to_csv()"
   ]
  },
  {
   "cell_type": "code",
   "execution_count": 20,
   "id": "101e73b4",
   "metadata": {},
   "outputs": [
    {
     "data": {
      "text/plain": [
       "Property Maintenance, Code Violations & Graffiti        260\n",
       "Street Repair                                           239\n",
       "Traffic Signal Repair                                    85\n",
       "Trees and Tree Limbs                                     80\n",
       "Other                                                    55\n",
       "Alley                                                    52\n",
       "Police General Issue                                     49\n",
       "Sidewalk and Ramp                                        39\n",
       "Street Light Out                                         32\n",
       "General Feedback or Questions                            21\n",
       "Curb and Gutter Repair                                   19\n",
       "Street Sign Repair                                       17\n",
       "Homeless Encampment Issues                               16\n",
       "Hydrant Leaking                                          15\n",
       "Downtown Parking General Question                         8\n",
       "Snow or Ice Hazard                                        6\n",
       "Inlet Clogged/Flooding                                    5\n",
       "Utility Work Damage                                       5\n",
       "Police Animal Control                                     4\n",
       "Water Quality                                             4\n",
       "Abandoned Vehicle                                         4\n",
       "Very rough intersection                                   2\n",
       "Traffic lights and lanes on 8th street near downtown      2\n",
       "Crosswalk Needed for Child Safety                         2\n",
       "Overgrown grass and weeds                                 2\n",
       "Highway pothole                                           2\n",
       "Cones have been up for weeks with no workers?             2\n",
       "Rough road.                                               2\n",
       "Trash after parade                                        2\n",
       "Water leak                                                2\n",
       "Human excrement on public sidewalk                        2\n",
       "Leaking pipe in parking garage                            2\n",
       "Sanitary Flow \"unclassified\"                              2\n",
       "Very rough Lane - intersection                            2\n",
       "Plant blocking view of traffic                            2\n",
       "Incomplete Utility Light Pole Repair                      2\n",
       "Abandoned Truck in Parking Garage                         1\n",
       "Vehicle with a flat tire                                  1\n",
       "abandoned vehicle                                         1\n",
       "TV on the curb                                            1\n",
       "5 Foot Grass Backyard                                     1\n",
       "Shawnee County owned dumpster has no lid                  1\n",
       "Vehicles parked on grass blocking sidewalk                1\n",
       "Scattered Trash                                           1\n",
       "Abandoned car                                             1\n",
       "Jackson Street Pedestrian Lights                          1\n",
       "abandoned car                                             1\n",
       "Water cover is not level with sidewalk                    1\n",
       "Abandoned vehicle                                         1\n",
       "Dead animal                                               1\n",
       "Change of intersection signage. (City Engineering)        1\n",
       "Name: summary, dtype: int64"
      ]
     },
     "execution_count": 20,
     "metadata": {},
     "output_type": "execute_result"
    }
   ],
   "source": [
    "issues_df['summary'].value_counts()"
   ]
  },
  {
   "cell_type": "code",
   "execution_count": 19,
   "id": "8948e75a",
   "metadata": {},
   "outputs": [],
   "source": [
    "issues_df['summary'] = issues_df['summary'].replace({\"Curb and Gutter\": \"Curb and Gutter Repair\",\n",
    "                       \"Junk Yard?\": \"Property Maintenance & Code Violations\",\n",
    "                       \"skatepark light\": \"safety lighting\",\n",
    "                       \"Dead animal on sidewalk \": \"Police Animal Control\",\n",
    "                       \"Loud pedestrian crossing \": \"Street Sign Repair\",\n",
    "                       \"Pothole\": \"Street Repair\"})"
   ]
  },
  {
   "cell_type": "code",
   "execution_count": null,
   "id": "e91cd733",
   "metadata": {},
   "outputs": [],
   "source": [
    "issues_df"
   ]
  }
 ],
 "metadata": {
  "kernelspec": {
   "display_name": "PythonData",
   "language": "python",
   "name": "pythondata"
  },
  "language_info": {
   "codemirror_mode": {
    "name": "ipython",
    "version": 3
   },
   "file_extension": ".py",
   "mimetype": "text/x-python",
   "name": "python",
   "nbconvert_exporter": "python",
   "pygments_lexer": "ipython3",
   "version": "3.7.7"
  }
 },
 "nbformat": 4,
 "nbformat_minor": 5
}
