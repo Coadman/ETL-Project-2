{
 "cells": [
  {
   "cell_type": "code",
   "execution_count": 34,
   "id": "ea10d448",
   "metadata": {},
   "outputs": [],
   "source": [
    "import requests\n",
    "import json\n",
    "import pandas as pd\n",
    "from pymongo import MongoClient\n",
    "import time"
   ]
  },
  {
   "cell_type": "code",
   "execution_count": 9,
   "id": "71b04e4c",
   "metadata": {},
   "outputs": [],
   "source": [
    "currentPage =1\n",
    "url = f\"https://seeclickfix.com/api/v2/issues?min_lat=39.04646740776558&min_lng=-95.69394289428709&max_lat=39.056465571713424&max_lng=-95.66544710571291&status=open,acknowledged,closed,archived&fields[issue]=id,summary,description,status,lat,lng,address,media,created_at,acknowledged_at,closed_at&page={currentPage}\""
   ]
  },
  {
   "cell_type": "code",
   "execution_count": 10,
   "id": "8f9bcad6",
   "metadata": {},
   "outputs": [],
   "source": [
    "res = requests.get(url).json()"
   ]
  },
  {
   "cell_type": "code",
   "execution_count": 18,
   "id": "d4199bb1",
   "metadata": {},
   "outputs": [],
   "source": [
    "issues = res['issues']"
   ]
  },
  {
   "cell_type": "code",
   "execution_count": 25,
   "id": "dd7140cb",
   "metadata": {},
   "outputs": [],
   "source": [
    "# Create an instance of MongoClient\n",
    "mongo = MongoClient(port=27017)\n",
    "\n",
    "# assign the met database to a variable name\n",
    "db = mongo['seeClick']\n",
    "\n",
    "# assign the collection to a variable\n",
    "issues = db['issues']\n"
   ]
  },
  {
   "cell_type": "code",
   "execution_count": 40,
   "id": "2c0a16f9",
   "metadata": {},
   "outputs": [],
   "source": [
    "for currentPage in range(20,50):\n",
    "    url = f\"https://seeclickfix.com/api/v2/issues?min_lat=39.04646740776558&min_lng=-95.69394289428709&max_lat=39.056465571713424&max_lng=-95.66544710571291&status=open,acknowledged,closed,archived&fields[issue]=id,summary,description,status,lat,lng,address,media,created_at,acknowledged_at,closed_at&page={currentPage}\"\n",
    "    res = requests.get(url).json()\n",
    "    issues_page = res['issues']\n",
    "    issues.insert_many(issues_page)\n",
    "    time.sleep(5)\n",
    "    # insert many - list of dicts\n",
    "    #for issue in issues_page:  # insert one / loop\n",
    "    #    issues.insert_one(issue)"
   ]
  },
  {
   "cell_type": "code",
   "execution_count": 32,
   "id": "65b994bd",
   "metadata": {},
   "outputs": [
    {
     "data": {
      "text/plain": [
       "660"
      ]
     },
     "execution_count": 32,
     "metadata": {},
     "output_type": "execute_result"
    }
   ],
   "source": [
    "len(list(issues.find()))"
   ]
  },
  {
   "cell_type": "code",
   "execution_count": 39,
   "id": "20d109ce",
   "metadata": {},
   "outputs": [
    {
     "data": {
      "text/plain": [
       "21"
      ]
     },
     "execution_count": 39,
     "metadata": {},
     "output_type": "execute_result"
    }
   ],
   "source": [
    "currentPage"
   ]
  },
  {
   "cell_type": "code",
   "execution_count": null,
   "id": "1f1912a6",
   "metadata": {},
   "outputs": [],
   "source": []
  }
 ],
 "metadata": {
  "kernelspec": {
   "display_name": "PythonData",
   "language": "python",
   "name": "pythondata"
  },
  "language_info": {
   "codemirror_mode": {
    "name": "ipython",
    "version": 3
   },
   "file_extension": ".py",
   "mimetype": "text/x-python",
   "name": "python",
   "nbconvert_exporter": "python",
   "pygments_lexer": "ipython3",
   "version": "3.7.7"
  }
 },
 "nbformat": 4,
 "nbformat_minor": 5
}
